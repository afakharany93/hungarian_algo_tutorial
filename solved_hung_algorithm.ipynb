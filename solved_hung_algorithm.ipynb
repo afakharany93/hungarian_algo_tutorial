{
 "cells": [
  {
   "cell_type": "markdown",
   "id": "aa0ef68c",
   "metadata": {},
   "source": [
    "tutorial from https://transport-systems.imperial.ac.uk/tf/60008_21/n2_5_hungarian_algorithm.html#:~:text=The%20algorithm%20has%20two%20stages,has%20the%20cost_matrix%20as%20input."
   ]
  },
  {
   "cell_type": "code",
   "execution_count": 1,
   "id": "bc448346",
   "metadata": {},
   "outputs": [
    {
     "name": "stdout",
     "output_type": "stream",
     "text": [
      "[[24 60 61  2  4]\n",
      " [38 89 30 51 93]\n",
      " [ 6 48 32 70 48]\n",
      " [39 30  0 59  1]\n",
      " [ 3 43 89 56 50]]\n"
     ]
    }
   ],
   "source": [
    "import numpy as np\n",
    "import copy\n",
    "\n",
    "max_int = 100\n",
    "n = 5\n",
    "# cost_matrix = np.random.randint(max_int, size=(n,n))\n",
    "cost_matrix = [[24, 60, 61,  2,  4],\n",
    " [38, 89, 30, 51, 93],\n",
    " [ 6, 48, 32, 70, 48],\n",
    " [39, 30,  0, 59,  1],\n",
    " [3, 43, 89, 56, 50]]\n",
    "\n",
    "cost_matrix = np.array(cost_matrix)\n",
    "\n",
    "print(cost_matrix)"
   ]
  },
  {
   "cell_type": "code",
   "execution_count": 2,
   "id": "c35d890b",
   "metadata": {},
   "outputs": [
    {
     "name": "stdout",
     "output_type": "stream",
     "text": [
      "scp_assignment:  (array([0, 1, 2, 3, 4]), array([3, 2, 0, 4, 1]))\n",
      "scp_totat:  82\n"
     ]
    },
    {
     "name": "stderr",
     "output_type": "stream",
     "text": [
      "/home/ahmed/.local/lib/python3.8/site-packages/scipy/__init__.py:146: UserWarning: A NumPy version >=1.16.5 and <1.23.0 is required for this version of SciPy (detected version 1.24.4\n",
      "  warnings.warn(f\"A NumPy version >={np_minversion} and <{np_maxversion}\"\n"
     ]
    }
   ],
   "source": [
    "# import scipy's linear_sum_assignment\n",
    "from scipy.optimize import linear_sum_assignment\n",
    "\n",
    "# execute the assignment\n",
    "scp_assignment = linear_sum_assignment(cost_matrix)\n",
    "\n",
    "print('scp_assignment: ', scp_assignment)\n",
    "# find the total cost\n",
    "scp_total = 0\n",
    "for i in range(len(scp_assignment[0])):\n",
    "    scp_total += cost_matrix[scp_assignment[0][i], scp_assignment[1][i]]\n",
    "print('scp_totat: ', scp_total)"
   ]
  },
  {
   "cell_type": "markdown",
   "id": "933e7732",
   "metadata": {},
   "source": [
    "# Part 2 - Clean scipy implementation and figure\n",
    "In this section, we implement a neater version of Part 1. We still use scipy to find the assignment, but we also produce readable results and a figure to accompany the final solution. The structure is separated into 4 functions:\n",
    "\n",
    "1. run_assignment - the master function - it runs the linear_sum_assignment code and calls the suplementary functions to make the results more readable.\n",
    "2. clean_assignment - scipy returns two arrays as a solution, here we combine then into a single array containing each assignment pair.\n",
    "3. calc_costs - calculates the total assignment costs.\n",
    "\n"
   ]
  },
  {
   "cell_type": "code",
   "execution_count": 3,
   "id": "40a71abe",
   "metadata": {},
   "outputs": [
    {
     "name": "stdout",
     "output_type": "stream",
     "text": [
      "The final assignment is (0, 3), (1, 2), (2, 0), (3, 4), (4, 1)\n",
      "The total cost of the assignment is 82.\n"
     ]
    }
   ],
   "source": [
    "def calc_costs(cost_matrix, assignment):\n",
    "    total = 0\n",
    "    for a in assignment:\n",
    "        total += cost_matrix[a[0], a[1]]\n",
    "    return total\n",
    "\n",
    "def clean_assignment(row, columns):\n",
    "    assignments = []\n",
    "    # create pairs\n",
    "    text = \"The final assignment is \"\n",
    "    for i in range(len(row)):\n",
    "        assignments.append([row[i], columns[i]])\n",
    "        if i > 0:\n",
    "            text += \", \"\n",
    "        text += f\"({row[i]}, {columns[i]})\"\n",
    "    print(text)\n",
    "    return assignments\n",
    "\n",
    "    \n",
    "def run_assignment(cost_matrix):\n",
    "    row,columns = linear_sum_assignment(cost_matrix)\n",
    "    assignments = clean_assignment(row, columns)\n",
    "    total_cost = calc_costs(cost_matrix, assignments)\n",
    "    print(f\"The total cost of the assignment is {total_cost}.\")\n",
    "\n",
    "run_assignment(cost_matrix)"
   ]
  },
  {
   "cell_type": "markdown",
   "id": "dadf4f26",
   "metadata": {},
   "source": [
    "# Part 3 - Full implementation of the Hungarian Algorithm\n",
    "This section presents a step-by-step implementation of the algorithm.\n",
    "\n",
    "The algorithm has two stages, first we find the minimum value at each row, and then subtract that value to every element of the row. Then we repeat the process using the columns instead. We define this process in the function hungarian_step that has the cost_matrix as input."
   ]
  },
  {
   "cell_type": "code",
   "execution_count": 4,
   "id": "a8102592",
   "metadata": {},
   "outputs": [],
   "source": [
    "def hungarian_step(mat): \n",
    "    #The for-loop iterates through every column in the matrix so we subtract this value to every element of the row\n",
    "    for row_num in range(mat.shape[0]): \n",
    "        mat[row_num] = mat[row_num] - np.min(mat[row_num])\n",
    "    print(mat)\n",
    "    #We repeat the process for the columns\n",
    "    for col_num in range(mat.shape[1]): \n",
    "        mat[:,col_num] = mat[:,col_num] - np.min(mat[:,col_num])\n",
    "    \n",
    "    return mat"
   ]
  },
  {
   "cell_type": "code",
   "execution_count": 5,
   "id": "43f15150",
   "metadata": {},
   "outputs": [
    {
     "name": "stdout",
     "output_type": "stream",
     "text": [
      "[[22 58 59  0  2]\n",
      " [ 8 59  0 21 63]\n",
      " [ 0 42 26 64 42]\n",
      " [39 30  0 59  1]\n",
      " [ 0 40 86 53 47]]\n",
      "[[22 28 59  0  1]\n",
      " [ 8 29  0 21 62]\n",
      " [ 0 12 26 64 41]\n",
      " [39  0  0 59  0]\n",
      " [ 0 10 86 53 46]]\n"
     ]
    }
   ],
   "source": [
    "hung_matrix = hungarian_step(cost_matrix.copy())\n",
    "print(hung_matrix)"
   ]
  },
  {
   "cell_type": "markdown",
   "id": "7f0828b5",
   "metadata": {},
   "source": [
    "The next step, while easy to carry out visually, becomes more difficult to code. We need to find the row containing the least number of zeros first.\n",
    "\n",
    "The first step to do this is to define a function that finds the minimum number of rows to mark that contain a zero value, let's call this min_zeros. Let's assume that the matrix being input is boolean with True where 0 existed and False where non-zero.\n",
    "\n",
    "Now, mark the column and row as False and repeat, saving the information where the last zero value was retrieved.\n",
    "\n",
    "By repeating this process, we collect all zeros in the matrix."
   ]
  },
  {
   "cell_type": "code",
   "execution_count": 6,
   "id": "93f99f94",
   "metadata": {},
   "outputs": [],
   "source": [
    "def min_zeros(zero_mat, mark_zero, verbose=False):\n",
    "    if verbose:\n",
    "        print('finding the min_zeros rows')\n",
    "    # min_row = [number of zeros, row index number]\n",
    "    min_row = [99999, -1]\n",
    "\n",
    "    for row_num in range(zero_mat.shape[0]): \n",
    "        if np.sum(zero_mat[row_num] == True) > 0 and min_row[0] > np.sum(zero_mat[row_num] == True):\n",
    "            min_row = [np.sum(zero_mat[row_num] == True), row_num]\n",
    "\n",
    "    # Marked the specific row and column as False\n",
    "    zero_index = np.where(zero_mat[min_row[1]] == True)[0][0]\n",
    "    mark_zero.append((min_row[1], zero_index))\n",
    "    zero_mat[min_row[1], :] = False\n",
    "    zero_mat[:, zero_index] = False\n",
    "    if verbose:\n",
    "        print('zero_mat: \\n', zero_mat)\n",
    "        print('marked_zero: \\n', marked_zero)\n",
    "        "
   ]
  },
  {
   "cell_type": "code",
   "execution_count": 7,
   "id": "c16b5fa5",
   "metadata": {},
   "outputs": [
    {
     "name": "stdout",
     "output_type": "stream",
     "text": [
      "zero_bool_mat_copy: \n",
      " [[False False False  True False]\n",
      " [False False  True False False]\n",
      " [ True False False False False]\n",
      " [False  True  True False  True]\n",
      " [ True False False False False]]\n",
      "marked_zero: \n",
      " []\n",
      "**********\n",
      "zero_bool_mat_copy: \n",
      " [[False False False False False]\n",
      " [False False  True False False]\n",
      " [ True False False False False]\n",
      " [False  True  True False  True]\n",
      " [ True False False False False]]\n",
      "marked_zero: \n",
      " [(0, 3)]\n",
      "**********\n",
      "zero_bool_mat_copy: \n",
      " [[False False False False False]\n",
      " [False False False False False]\n",
      " [ True False False False False]\n",
      " [False  True False False  True]\n",
      " [ True False False False False]]\n",
      "marked_zero: \n",
      " [(0, 3), (1, 2)]\n",
      "**********\n",
      "zero_bool_mat_copy: \n",
      " [[False False False False False]\n",
      " [False False False False False]\n",
      " [False False False False False]\n",
      " [False  True False False  True]\n",
      " [False False False False False]]\n",
      "marked_zero: \n",
      " [(0, 3), (1, 2), (2, 0)]\n",
      "**********\n",
      "zero_bool_mat_copy: \n",
      " [[False False False False False]\n",
      " [False False False False False]\n",
      " [False False False False False]\n",
      " [False False False False False]\n",
      " [False False False False False]]\n",
      "marked_zero: \n",
      " [(0, 3), (1, 2), (2, 0), (3, 1)]\n"
     ]
    }
   ],
   "source": [
    "cur_mat = hung_matrix\n",
    "zero_bool_mat = (cur_mat == 0)\n",
    "zero_bool_mat_copy = zero_bool_mat.copy()\n",
    "\n",
    "marked_zero = []\n",
    "print('zero_bool_mat_copy: \\n', zero_bool_mat_copy)\n",
    "print('marked_zero: \\n', marked_zero)\n",
    "while (True in zero_bool_mat_copy):\n",
    "    print('*'*10)\n",
    "    min_zeros(zero_bool_mat_copy, marked_zero)\n",
    "    print('zero_bool_mat_copy: \\n', zero_bool_mat_copy)\n",
    "    print('marked_zero: \\n', marked_zero)\n",
    "        "
   ]
  },
  {
   "cell_type": "markdown",
   "id": "d74b0706",
   "metadata": {},
   "source": [
    "Now that we extracted the zeros in the matrix, we can mark the rows and columns to determine whether the hungarian algorithm is complete.\n",
    "\n"
   ]
  },
  {
   "cell_type": "code",
   "execution_count": 21,
   "id": "5dc197ea",
   "metadata": {},
   "outputs": [],
   "source": [
    "def mark_matrix(mat, verbose=False):\n",
    "    if verbose:\n",
    "        print('marking the matrix')\n",
    "    #Transform the matrix to boolean matrix(0 = True, others = False)\n",
    "    cur_mat = mat\n",
    "    zero_bool_mat = (cur_mat == 0)\n",
    "    zero_bool_mat_copy = zero_bool_mat.copy()\n",
    "    if verbose:\n",
    "        print('the bool matrix: \\n', zero_bool_mat_copy)\n",
    "\n",
    "    #Recording possible answer positions by marked_zero\n",
    "    marked_zero = []\n",
    "    while (True in zero_bool_mat_copy):\n",
    "        min_zeros(zero_bool_mat_copy, marked_zero, verbose=verbose)\n",
    "\n",
    "    #Recording the row and column indexes seperately.\n",
    "    marked_zero_row = []\n",
    "    marked_zero_col = []\n",
    "    for i in range(len(marked_zero)):\n",
    "        marked_zero_row.append(marked_zero[i][0])\n",
    "        marked_zero_col.append(marked_zero[i][1])\n",
    "    if verbose:\n",
    "        print('marked_zero_row: ', marked_zero_row)\n",
    "        print('marked_zero_col: ', marked_zero_col)\n",
    "    \n",
    "    # collect rows not containing zeros\n",
    "    non_marked_row = list(set(range(cur_mat.shape[0])) - set(marked_zero_row))\n",
    "    if verbose:\n",
    "        print('non_marked_row: ', non_marked_row)\n",
    "    \n",
    "    # mark columns with zeros\n",
    "    marked_cols = []\n",
    "    check_switch = True\n",
    "    while check_switch:\n",
    "        check_switch = False\n",
    "        for i in range(len(non_marked_row)):\n",
    "            row_array = zero_bool_mat[non_marked_row[i], :]\n",
    "            for j in range(row_array.shape[0]):\n",
    "                if row_array[j] == True and j not in marked_cols:\n",
    "\n",
    "                    marked_cols.append(j)\n",
    "                    check_switch = True\n",
    "\n",
    "        for row_num, col_num in marked_zero:\n",
    "            if row_num not in non_marked_row and col_num in marked_cols:\n",
    "                \n",
    "                non_marked_row.append(row_num)\n",
    "                check_switch = True\n",
    "    \n",
    "    # mark rows with zeros\n",
    "    marked_rows = list(set(range(mat.shape[0])) - set(non_marked_row))\n",
    "    \n",
    "    return(marked_zero, marked_rows, marked_cols)"
   ]
  },
  {
   "cell_type": "code",
   "execution_count": 22,
   "id": "cb925c15",
   "metadata": {},
   "outputs": [
    {
     "name": "stdout",
     "output_type": "stream",
     "text": [
      "marking the matrix\n",
      "the bool matrix: \n",
      " [[False False False  True False]\n",
      " [False False  True False False]\n",
      " [ True False False False False]\n",
      " [False  True  True False  True]\n",
      " [ True False False False False]]\n",
      "finding the min_zeros rows\n",
      "zero_mat: \n",
      " [[False False False False False]\n",
      " [False False  True False False]\n",
      " [ True False False False False]\n",
      " [False  True  True False  True]\n",
      " [ True False False False False]]\n",
      "marked_zero: \n",
      " [(0, 3), (1, 2), (2, 0), (3, 1)]\n",
      "finding the min_zeros rows\n",
      "zero_mat: \n",
      " [[False False False False False]\n",
      " [False False False False False]\n",
      " [ True False False False False]\n",
      " [False  True False False  True]\n",
      " [ True False False False False]]\n",
      "marked_zero: \n",
      " [(0, 3), (1, 2), (2, 0), (3, 1)]\n",
      "finding the min_zeros rows\n",
      "zero_mat: \n",
      " [[False False False False False]\n",
      " [False False False False False]\n",
      " [False False False False False]\n",
      " [False  True False False  True]\n",
      " [False False False False False]]\n",
      "marked_zero: \n",
      " [(0, 3), (1, 2), (2, 0), (3, 1)]\n",
      "finding the min_zeros rows\n",
      "zero_mat: \n",
      " [[False False False False False]\n",
      " [False False False False False]\n",
      " [False False False False False]\n",
      " [False False False False False]\n",
      " [False False False False False]]\n",
      "marked_zero: \n",
      " [(0, 3), (1, 2), (2, 0), (3, 1)]\n",
      "marked_zero_row:  [0, 1, 2, 3]\n",
      "marked_zero_col:  [3, 2, 0, 1]\n",
      "non_marked_row:  [4]\n",
      "[(0, 3), (1, 2), (2, 0), (3, 1)] [0, 1, 3] [0]\n"
     ]
    }
   ],
   "source": [
    "marked_zero, marked_rows, marked_cols = mark_matrix(hung_matrix.copy(), verbose=True)\n",
    "print(marked_zero, marked_rows, marked_cols)"
   ]
  },
  {
   "cell_type": "markdown",
   "id": "287317a7",
   "metadata": {},
   "source": [
    "In the case where marked rows and columns do not add up to  𝑛\n",
    " , we need to adjust the matrix to continue the search."
   ]
  },
  {
   "cell_type": "code",
   "execution_count": 23,
   "id": "47db3248",
   "metadata": {},
   "outputs": [],
   "source": [
    "def adjust_matrix(mat, cover_rows, cover_cols, verbose=False):\n",
    "    if verbose:\n",
    "        print(\"adjusting the matrix\")\n",
    "    cur_mat = mat\n",
    "    non_zero_element = []\n",
    "    \n",
    "    # find the minimum value of an element not in a marked column/row \n",
    "    for row in range(len(cur_mat)):\n",
    "        if row not in cover_rows:\n",
    "            for i in range(len(cur_mat[row])):\n",
    "                if i not in cover_cols:\n",
    "                    non_zero_element.append(cur_mat[row][i])\n",
    "    \n",
    "    min_num = min(non_zero_element)\n",
    "\n",
    "    # substract to all values not in a marked row/column\n",
    "    for row in range(len(cur_mat)):\n",
    "        if row not in cover_rows:\n",
    "            for i in range(len(cur_mat[row])):\n",
    "                if i not in cover_cols:\n",
    "                    cur_mat[row, i] = cur_mat[row, i] - min_num\n",
    "    # add to all values in marked rows/column\n",
    "    for row in range(len(cover_rows)):  \n",
    "        for col in range(len(cover_cols)):\n",
    "            cur_mat[cover_rows[row], cover_cols[col]] = cur_mat[cover_rows[row], cover_cols[col]] + min_num\n",
    "    \n",
    "    if verbose:\n",
    "        print('adjusted matrix = ', cur_mat)\n",
    "    return cur_mat"
   ]
  },
  {
   "cell_type": "code",
   "execution_count": 24,
   "id": "881e3f7c",
   "metadata": {},
   "outputs": [
    {
     "data": {
      "text/plain": [
       "array([[32, 28, 59,  0,  1],\n",
       "       [18, 29,  0, 21, 62],\n",
       "       [ 0,  2, 16, 54, 31],\n",
       "       [49,  0,  0, 59,  0],\n",
       "       [ 0,  0, 76, 43, 36]])"
      ]
     },
     "execution_count": 24,
     "metadata": {},
     "output_type": "execute_result"
    }
   ],
   "source": [
    "adjust_matrix(hung_matrix.copy(), marked_rows, marked_cols )"
   ]
  },
  {
   "cell_type": "code",
   "execution_count": 27,
   "id": "e2e854ff",
   "metadata": {},
   "outputs": [],
   "source": [
    "def hungarian_algorithm(cost_matrix, verbose=False):\n",
    "    \n",
    "    n = cost_matrix.shape[0]\n",
    "    cur_mat = copy.deepcopy(cost_matrix)\n",
    "    \n",
    "    cur_mat = hungarian_step(cur_mat)\n",
    "    \n",
    "    count_zero_lines = 0\n",
    "        \n",
    "    while count_zero_lines < n:\n",
    "        if verbose:\n",
    "            print('*'*10)\n",
    "        ans_pos, marked_rows, marked_cols = mark_matrix(cur_mat, verbose=verbose)\n",
    "        count_zero_lines = len(marked_rows) + len(marked_cols)\n",
    "        if verbose:\n",
    "            print('count_zero_lines: ', count_zero_lines)\n",
    "\n",
    "        if count_zero_lines < n:\n",
    "            cur_mat = adjust_matrix(cur_mat, marked_rows, marked_cols)\n",
    "    \n",
    "    return ans_pos"
   ]
  },
  {
   "cell_type": "code",
   "execution_count": 28,
   "id": "aec2afa0",
   "metadata": {
    "scrolled": false
   },
   "outputs": [
    {
     "name": "stdout",
     "output_type": "stream",
     "text": [
      "[[22 58 59  0  2]\n",
      " [ 8 59  0 21 63]\n",
      " [ 0 42 26 64 42]\n",
      " [39 30  0 59  1]\n",
      " [ 0 40 86 53 47]]\n",
      "**********\n",
      "marking the matrix\n",
      "the bool matrix: \n",
      " [[False False False  True False]\n",
      " [False False  True False False]\n",
      " [ True False False False False]\n",
      " [False  True  True False  True]\n",
      " [ True False False False False]]\n",
      "finding the min_zeros rows\n",
      "zero_mat: \n",
      " [[False False False False False]\n",
      " [False False  True False False]\n",
      " [ True False False False False]\n",
      " [False  True  True False  True]\n",
      " [ True False False False False]]\n",
      "marked_zero: \n",
      " [(0, 3), (1, 2), (2, 0), (3, 1)]\n",
      "finding the min_zeros rows\n",
      "zero_mat: \n",
      " [[False False False False False]\n",
      " [False False False False False]\n",
      " [ True False False False False]\n",
      " [False  True False False  True]\n",
      " [ True False False False False]]\n",
      "marked_zero: \n",
      " [(0, 3), (1, 2), (2, 0), (3, 1)]\n",
      "finding the min_zeros rows\n",
      "zero_mat: \n",
      " [[False False False False False]\n",
      " [False False False False False]\n",
      " [False False False False False]\n",
      " [False  True False False  True]\n",
      " [False False False False False]]\n",
      "marked_zero: \n",
      " [(0, 3), (1, 2), (2, 0), (3, 1)]\n",
      "finding the min_zeros rows\n",
      "zero_mat: \n",
      " [[False False False False False]\n",
      " [False False False False False]\n",
      " [False False False False False]\n",
      " [False False False False False]\n",
      " [False False False False False]]\n",
      "marked_zero: \n",
      " [(0, 3), (1, 2), (2, 0), (3, 1)]\n",
      "marked_zero_row:  [0, 1, 2, 3]\n",
      "marked_zero_col:  [3, 2, 0, 1]\n",
      "non_marked_row:  [4]\n",
      "count_zero_lines:  4\n",
      "**********\n",
      "marking the matrix\n",
      "the bool matrix: \n",
      " [[False False False  True False]\n",
      " [False False  True False False]\n",
      " [ True False False False False]\n",
      " [False  True  True False  True]\n",
      " [ True  True False False False]]\n",
      "finding the min_zeros rows\n",
      "zero_mat: \n",
      " [[False False False False False]\n",
      " [False False  True False False]\n",
      " [ True False False False False]\n",
      " [False  True  True False  True]\n",
      " [ True  True False False False]]\n",
      "marked_zero: \n",
      " [(0, 3), (1, 2), (2, 0), (3, 1)]\n",
      "finding the min_zeros rows\n",
      "zero_mat: \n",
      " [[False False False False False]\n",
      " [False False False False False]\n",
      " [ True False False False False]\n",
      " [False  True False False  True]\n",
      " [ True  True False False False]]\n",
      "marked_zero: \n",
      " [(0, 3), (1, 2), (2, 0), (3, 1)]\n",
      "finding the min_zeros rows\n",
      "zero_mat: \n",
      " [[False False False False False]\n",
      " [False False False False False]\n",
      " [False False False False False]\n",
      " [False  True False False  True]\n",
      " [False  True False False False]]\n",
      "marked_zero: \n",
      " [(0, 3), (1, 2), (2, 0), (3, 1)]\n",
      "finding the min_zeros rows\n",
      "zero_mat: \n",
      " [[False False False False False]\n",
      " [False False False False False]\n",
      " [False False False False False]\n",
      " [False False False False  True]\n",
      " [False False False False False]]\n",
      "marked_zero: \n",
      " [(0, 3), (1, 2), (2, 0), (3, 1)]\n",
      "finding the min_zeros rows\n",
      "zero_mat: \n",
      " [[False False False False False]\n",
      " [False False False False False]\n",
      " [False False False False False]\n",
      " [False False False False False]\n",
      " [False False False False False]]\n",
      "marked_zero: \n",
      " [(0, 3), (1, 2), (2, 0), (3, 1)]\n",
      "marked_zero_row:  [0, 1, 2, 4, 3]\n",
      "marked_zero_col:  [3, 2, 0, 1, 4]\n",
      "non_marked_row:  []\n",
      "count_zero_lines:  5\n",
      "The final assignment is: [(0, 3), (1, 2), (2, 0), (4, 1), (3, 4)]\n",
      "[[24 60 61  2  4]\n",
      " [38 89 30 51 93]\n",
      " [ 6 48 32 70 48]\n",
      " [39 30  0 59  1]\n",
      " [ 3 43 89 56 50]]\n"
     ]
    }
   ],
   "source": [
    "assignment = hungarian_algorithm(cost_matrix, verbose=True)\n",
    "print(f\"The final assignment is: {assignment}\")\n",
    "print(cost_matrix)"
   ]
  },
  {
   "cell_type": "code",
   "execution_count": 29,
   "id": "3fc894b3",
   "metadata": {},
   "outputs": [
    {
     "name": "stdout",
     "output_type": "stream",
     "text": [
      "The total cost of the assignment is 82\n"
     ]
    }
   ],
   "source": [
    "total = 0\n",
    "for i in range(len(assignment)):\n",
    "    total += cost_matrix[assignment[i][0], assignment[i][1]]\n",
    "print(f\"The total cost of the assignment is {total}\")"
   ]
  },
  {
   "cell_type": "code",
   "execution_count": null,
   "id": "742e505a",
   "metadata": {},
   "outputs": [],
   "source": []
  }
 ],
 "metadata": {
  "kernelspec": {
   "display_name": "Python 3 (ipykernel)",
   "language": "python",
   "name": "python3"
  },
  "language_info": {
   "codemirror_mode": {
    "name": "ipython",
    "version": 3
   },
   "file_extension": ".py",
   "mimetype": "text/x-python",
   "name": "python",
   "nbconvert_exporter": "python",
   "pygments_lexer": "ipython3",
   "version": "3.8.10"
  }
 },
 "nbformat": 4,
 "nbformat_minor": 5
}
