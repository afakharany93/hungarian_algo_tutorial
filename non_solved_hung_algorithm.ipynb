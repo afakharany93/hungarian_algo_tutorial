{
 "cells": [
  {
   "cell_type": "markdown",
   "id": "aa0ef68c",
   "metadata": {},
   "source": [
    "tutorial from https://transport-systems.imperial.ac.uk/tf/60008_21/n2_5_hungarian_algorithm.html#:~:text=The%20algorithm%20has%20two%20stages,has%20the%20cost_matrix%20as%20input."
   ]
  },
  {
   "cell_type": "code",
   "execution_count": 4,
   "id": "bc448346",
   "metadata": {},
   "outputs": [
    {
     "name": "stdout",
     "output_type": "stream",
     "text": [
      "[[24 60 61  2  4]\n",
      " [38 89 30 51 93]\n",
      " [ 6 48 32 70 48]\n",
      " [39 30  0 59  1]\n",
      " [ 3 43 89 56 50]]\n"
     ]
    }
   ],
   "source": [
    "import numpy as np\n",
    "import copy\n",
    "\n",
    "max_int = 100\n",
    "n = 5\n",
    "# cost_matrix = np.random.randint(max_int, size=(n,n))\n",
    "cost_matrix = [[24, 60, 61,  2,  4],\n",
    " [38, 89, 30, 51, 93],\n",
    " [ 6, 48, 32, 70, 48],\n",
    " [39, 30,  0, 59,  1],\n",
    " [3, 43, 89, 56, 50]]\n",
    "\n",
    "cost_matrix = np.array(cost_matrix)\n",
    "\n",
    "print(cost_matrix)"
   ]
  },
  {
   "cell_type": "code",
   "execution_count": 5,
   "id": "c35d890b",
   "metadata": {},
   "outputs": [
    {
     "name": "stdout",
     "output_type": "stream",
     "text": [
      "scp_assignment:  (array([0, 1, 2, 3, 4], dtype=int64), array([3, 2, 0, 4, 1], dtype=int64))\n",
      "scp_totat:  82\n"
     ]
    }
   ],
   "source": [
    "# import scipy's linear_sum_assignment\n",
    "from scipy.optimize import linear_sum_assignment\n",
    "\n",
    "# execute the assignment\n",
    "scp_assignment = linear_sum_assignment(cost_matrix)\n",
    "\n",
    "print('scp_assignment: ', scp_assignment)\n",
    "# find the total cost\n",
    "scp_total = 0\n",
    "for i in range(len(scp_assignment[0])):\n",
    "    scp_total += cost_matrix[scp_assignment[0][i], scp_assignment[1][i]]\n",
    "print('scp_totat cost: ', scp_total)"
   ]
  },
  {
   "cell_type": "markdown",
   "id": "dadf4f26",
   "metadata": {},
   "source": [
    "# Part 2 - Full implementation of the Hungarian Algorithm\n",
    "This section presents a step-by-step implementation of the algorithm.\n",
    "\n",
    "The algorithm has two stages, first we find the minimum value at each row, and then subtract that value to every element of the row. Then we repeat the process using the columns instead. We define this process in the function hungarian_step that has the cost_matrix as input."
   ]
  },
  {
   "cell_type": "code",
   "execution_count": 7,
   "id": "a8102592",
   "metadata": {},
   "outputs": [],
   "source": [
    "def hungarian_step(mat): \n",
    "    #The for-loop iterates through every column in the matrix so we subtract this value to every element of the row\n",
    "    for row_num in range(mat.shape[0]): \n",
    "        pass\n",
    "    #We repeat the process for the columns\n",
    "    for col_num in range(mat.shape[1]): \n",
    "        pass\n",
    "    \n",
    "    return mat"
   ]
  },
  {
   "cell_type": "code",
   "execution_count": 8,
   "id": "43f15150",
   "metadata": {},
   "outputs": [
    {
     "name": "stdout",
     "output_type": "stream",
     "text": [
      "[[22 58 59  0  2]\n",
      " [ 8 59  0 21 63]\n",
      " [ 0 42 26 64 42]\n",
      " [39 30  0 59  1]\n",
      " [ 0 40 86 53 47]]\n",
      "[[22 28 59  0  1]\n",
      " [ 8 29  0 21 62]\n",
      " [ 0 12 26 64 41]\n",
      " [39  0  0 59  0]\n",
      " [ 0 10 86 53 46]]\n"
     ]
    }
   ],
   "source": [
    "hung_matrix = hungarian_step(cost_matrix.copy())\n",
    "print(hung_matrix)"
   ]
  },
  {
   "cell_type": "markdown",
   "id": "7f0828b5",
   "metadata": {},
   "source": [
    "The next step, while easy to carry out visually, becomes more difficult to code. We need to find the row containing the least number of zeros first.\n",
    "\n",
    "The first step to do this is to define a function that finds the minimum number of rows to mark (mark means ye3alem 3ala) that contain a zero value, let's call this min_zeros. Let's assume that the matrix being input is boolean with True where 0 existed and False where non-zero.\n",
    "\n",
    "Now, mark the column and row as False and repeat, saving the information where the last zero value was retrieved.\n",
    "\n",
    "By repeating this process, we collect all zeros in the matrix.\n",
    "\n",
    "![image info](Untitled.png)"
   ]
  },
  {
   "cell_type": "code",
   "execution_count": 9,
   "id": "93f99f94",
   "metadata": {},
   "outputs": [],
   "source": [
    "def min_zeros(zero_mat, mark_zero, verbose=False):\n",
    "    if verbose:\n",
    "        print('finding the min_zeros rows')\n",
    "    # get the min_row = [number of zeros, row index number]\n",
    "    pass\n",
    "\n",
    "    # Marked the specific row and column as False\n",
    "    pass\n",
    "    if verbose:\n",
    "        print('zero_mat: \\n', zero_mat)\n",
    "        print('marked_zero: \\n', mark_zero)\n",
    "        "
   ]
  },
  {
   "cell_type": "markdown",
   "id": "cedac786",
   "metadata": {},
   "source": [
    "The expected output of the following code:\n",
    "```\n",
    "zero_bool_mat_copy: \n",
    " [[False False False  True False]\n",
    " [False False  True False False]\n",
    " [ True False False False False]\n",
    " [False  True  True False  True]\n",
    " [ True False False False False]]\n",
    "marked_zero: \n",
    " []\n",
    "**********\n",
    "zero_bool_mat_copy: \n",
    " [[False False False False False]\n",
    " [False False  True False False]\n",
    " [ True False False False False]\n",
    " [False  True  True False  True]\n",
    " [ True False False False False]]\n",
    "marked_zero: \n",
    " [(0, 3)]\n",
    "**********\n",
    "zero_bool_mat_copy: \n",
    " [[False False False False False]\n",
    " [False False False False False]\n",
    " [ True False False False False]\n",
    " [False  True False False  True]\n",
    " [ True False False False False]]\n",
    "marked_zero: \n",
    " [(0, 3), (1, 2)]\n",
    "**********\n",
    "zero_bool_mat_copy: \n",
    " [[False False False False False]\n",
    " [False False False False False]\n",
    " [False False False False False]\n",
    " [False  True False False  True]\n",
    " [False False False False False]]\n",
    "marked_zero: \n",
    " [(0, 3), (1, 2), (2, 0)]\n",
    "**********\n",
    "zero_bool_mat_copy: \n",
    " [[False False False False False]\n",
    " [False False False False False]\n",
    " [False False False False False]\n",
    " [False False False False False]\n",
    " [False False False False False]]\n",
    "marked_zero: \n",
    " [(0, 3), (1, 2), (2, 0), (3, 1)]\n",
    " ```"
   ]
  },
  {
   "cell_type": "code",
   "execution_count": 10,
   "id": "c16b5fa5",
   "metadata": {},
   "outputs": [
    {
     "name": "stdout",
     "output_type": "stream",
     "text": [
      "zero_bool_mat_copy: \n",
      " [[False False False  True False]\n",
      " [False False  True False False]\n",
      " [ True False False False False]\n",
      " [False  True  True False  True]\n",
      " [ True False False False False]]\n",
      "marked_zero: \n",
      " []\n",
      "**********\n",
      "zero_bool_mat_copy: \n",
      " [[False False False False False]\n",
      " [False False  True False False]\n",
      " [ True False False False False]\n",
      " [False  True  True False  True]\n",
      " [ True False False False False]]\n",
      "marked_zero: \n",
      " [(0, 3)]\n",
      "**********\n",
      "zero_bool_mat_copy: \n",
      " [[False False False False False]\n",
      " [False False False False False]\n",
      " [ True False False False False]\n",
      " [False  True False False  True]\n",
      " [ True False False False False]]\n",
      "marked_zero: \n",
      " [(0, 3), (1, 2)]\n",
      "**********\n",
      "zero_bool_mat_copy: \n",
      " [[False False False False False]\n",
      " [False False False False False]\n",
      " [False False False False False]\n",
      " [False  True False False  True]\n",
      " [False False False False False]]\n",
      "marked_zero: \n",
      " [(0, 3), (1, 2), (2, 0)]\n",
      "**********\n",
      "zero_bool_mat_copy: \n",
      " [[False False False False False]\n",
      " [False False False False False]\n",
      " [False False False False False]\n",
      " [False False False False False]\n",
      " [False False False False False]]\n",
      "marked_zero: \n",
      " [(0, 3), (1, 2), (2, 0), (3, 1)]\n"
     ]
    }
   ],
   "source": [
    "cur_mat = hung_matrix\n",
    "zero_bool_mat = (cur_mat == 0)\n",
    "zero_bool_mat_copy = zero_bool_mat.copy()\n",
    "\n",
    "marked_zero = []\n",
    "print('zero_bool_mat_copy: \\n', zero_bool_mat_copy)\n",
    "print('marked_zero: \\n', marked_zero)\n",
    "while (True in zero_bool_mat_copy):\n",
    "    print('*'*10)\n",
    "    min_zeros(zero_bool_mat_copy, marked_zero, verbose=True)\n",
    "    # print('zero_bool_mat_copy: \\n', zero_bool_mat_copy)\n",
    "    # print('marked_zero: \\n', marked_zero)\n",
    "        "
   ]
  },
  {
   "cell_type": "markdown",
   "id": "d74b0706",
   "metadata": {},
   "source": [
    "Now that we extracted the zeros in the matrix, we can mark the rows and columns to determine whether the hungarian algorithm is complete.\n",
    "\n"
   ]
  },
  {
   "cell_type": "code",
   "execution_count": 20,
   "id": "5dc197ea",
   "metadata": {},
   "outputs": [],
   "source": [
    "def mark_matrix(mat, verbose=False):\n",
    "\n",
    "\n",
    "    if verbose:\n",
    "        print('marking the matrix')\n",
    "\n",
    "    # Transform the matrix to boolean matrix (0 = True, others = False)\n",
    "    cur_mat = mat\n",
    "    zero_bool_mat = (cur_mat == 0)\n",
    "    zero_bool_mat_copy = zero_bool_mat.copy()  # Create a copy for iterative modifications\n",
    "\n",
    "    if verbose:\n",
    "        print('the bool matrix: \\n', zero_bool_mat_copy)\n",
    "\n",
    "    # Recording possible answer positions by marked_zero\n",
    "    marked_zero = []\n",
    "\n",
    "    # Iteratively mark zeros until no zeros remain in the copy of the boolean matrix\n",
    "    while (True in zero_bool_mat_copy):\n",
    "        min_zeros(zero_bool_mat_copy, marked_zero, verbose=verbose)  # Assume 'min_zeros' finds rows/columns with minimum zeros\n",
    "\n",
    "    # Recording the row and column indexes separately.\n",
    "    marked_zero_row = []\n",
    "    marked_zero_col = []\n",
    "    for i in range(len(marked_zero)):\n",
    "        marked_zero_row.append(marked_zero[i][0])  # Extract row indexes from marked_zero\n",
    "        marked_zero_col.append(marked_zero[i][1])  # Extract column indexes from marked_zero\n",
    "    if verbose:\n",
    "        print('marked_zero_row: ', marked_zero_row)\n",
    "        print('marked_zero_col: ', marked_zero_col)\n",
    "\n",
    "    # Collect rows not containing zeros\n",
    "    non_marked_row = list(set(range(cur_mat.shape[0])) - set(marked_zero_row))\n",
    "    if verbose:\n",
    "        print('non_marked_row: ', non_marked_row)\n",
    "\n",
    "    # Mark columns with zeros\n",
    "    marked_cols = []\n",
    "    check_switch = True\n",
    "    while check_switch:\n",
    "        check_switch = False\n",
    "        # get tha column of the zero whose row isn't in the marked row, then add it to the marked columns\n",
    "        for i in range(len(non_marked_row)):\n",
    "            pass\n",
    "        # Update non_marked_row based on newly marked columns\n",
    "        for row_num, col_num in marked_zero:\n",
    "            if row_num not in non_marked_row and col_num in marked_cols:\n",
    "\n",
    "                non_marked_row.append(row_num)\n",
    "                check_switch = True\n",
    "\n",
    "    # Mark rows with zeros\n",
    "    marked_rows = list(set(range(mat.shape[0])) - set(non_marked_row))  # Find rows containing zeros\n",
    "\n",
    "    return (marked_zero, marked_rows, marked_cols)\n"
   ]
  },
  {
   "cell_type": "code",
   "execution_count": 19,
   "id": "cb925c15",
   "metadata": {},
   "outputs": [
    {
     "name": "stdout",
     "output_type": "stream",
     "text": [
      "marking the matrix\n",
      "the bool matrix: \n",
      " [[False False False  True False]\n",
      " [False False  True False False]\n",
      " [ True False False False False]\n",
      " [False  True  True False  True]\n",
      " [ True False False False False]]\n",
      "finding the min_zeros rows\n",
      "zero_mat: \n",
      " [[False False False False False]\n",
      " [False False  True False False]\n",
      " [ True False False False False]\n",
      " [False  True  True False  True]\n",
      " [ True False False False False]]\n",
      "marked_zero: \n",
      " [(0, 3), (1, 2), (2, 0), (3, 1)]\n",
      "finding the min_zeros rows\n",
      "zero_mat: \n",
      " [[False False False False False]\n",
      " [False False False False False]\n",
      " [ True False False False False]\n",
      " [False  True False False  True]\n",
      " [ True False False False False]]\n",
      "marked_zero: \n",
      " [(0, 3), (1, 2), (2, 0), (3, 1)]\n",
      "finding the min_zeros rows\n",
      "zero_mat: \n",
      " [[False False False False False]\n",
      " [False False False False False]\n",
      " [False False False False False]\n",
      " [False  True False False  True]\n",
      " [False False False False False]]\n",
      "marked_zero: \n",
      " [(0, 3), (1, 2), (2, 0), (3, 1)]\n",
      "finding the min_zeros rows\n",
      "zero_mat: \n",
      " [[False False False False False]\n",
      " [False False False False False]\n",
      " [False False False False False]\n",
      " [False False False False False]\n",
      " [False False False False False]]\n",
      "marked_zero: \n",
      " [(0, 3), (1, 2), (2, 0), (3, 1)]\n",
      "marked_zero_row:  [0, 1, 2, 3]\n",
      "marked_zero_col:  [3, 2, 0, 1]\n",
      "non_marked_row:  [4]\n",
      "[(0, 3), (1, 2), (2, 0), (3, 1)] [0, 1, 3] [0]\n"
     ]
    }
   ],
   "source": [
    "marked_zero, marked_rows, marked_cols = mark_matrix(hung_matrix.copy(), verbose=True)\n",
    "print(marked_zero, marked_rows, marked_cols)"
   ]
  },
  {
   "cell_type": "markdown",
   "id": "287317a7",
   "metadata": {},
   "source": [
    "In the case where marked rows and columns do not add up to  𝑛\n",
    " , we need to adjust the matrix to continue the search."
   ]
  },
  {
   "cell_type": "code",
   "execution_count": 21,
   "id": "47db3248",
   "metadata": {},
   "outputs": [],
   "source": [
    "def adjust_matrix(mat, cover_rows, cover_cols, verbose=False):\n",
    "    if verbose:\n",
    "        print(\"adjusting the matrix\")\n",
    "    cur_mat = mat\n",
    "    non_zero_element = []\n",
    "    \n",
    "    # find the minimum value of an element not in a marked column/row \n",
    "    pass\n",
    "\n",
    "    # substract to all values not in a marked row/column\n",
    "    pass\n",
    "    # add to all values in marked rows/column\n",
    "    pass\n",
    "    \n",
    "    if verbose:\n",
    "        print('adjusted matrix = ', cur_mat)\n",
    "    return cur_mat"
   ]
  },
  {
   "cell_type": "code",
   "execution_count": 22,
   "id": "881e3f7c",
   "metadata": {},
   "outputs": [
    {
     "data": {
      "text/plain": [
       "array([[32, 28, 59,  0,  1],\n",
       "       [18, 29,  0, 21, 62],\n",
       "       [ 0,  2, 16, 54, 31],\n",
       "       [49,  0,  0, 59,  0],\n",
       "       [ 0,  0, 76, 43, 36]])"
      ]
     },
     "execution_count": 22,
     "metadata": {},
     "output_type": "execute_result"
    }
   ],
   "source": [
    "adjust_matrix(hung_matrix.copy(), marked_rows, marked_cols )"
   ]
  },
  {
   "cell_type": "code",
   "execution_count": 15,
   "id": "e2e854ff",
   "metadata": {},
   "outputs": [],
   "source": [
    "def hungarian_algorithm(cost_matrix, verbose=False):\n",
    "    \n",
    "    n = cost_matrix.shape[0]\n",
    "    cur_mat = copy.deepcopy(cost_matrix)\n",
    "    \n",
    "    cur_mat = hungarian_step(cur_mat)\n",
    "    \n",
    "    count_zero_lines = 0\n",
    "        \n",
    "    while count_zero_lines < n:\n",
    "        if verbose:\n",
    "            print('*'*10)\n",
    "        ans_pos, marked_rows, marked_cols = mark_matrix(cur_mat, verbose=verbose)\n",
    "        count_zero_lines = len(marked_rows) + len(marked_cols)\n",
    "        if verbose:\n",
    "            print('count_zero_lines: ', count_zero_lines)\n",
    "\n",
    "        if count_zero_lines < n:\n",
    "            cur_mat = adjust_matrix(cur_mat, marked_rows, marked_cols)\n",
    "    \n",
    "    return ans_pos"
   ]
  },
  {
   "cell_type": "code",
   "execution_count": 16,
   "id": "aec2afa0",
   "metadata": {
    "scrolled": false
   },
   "outputs": [
    {
     "name": "stdout",
     "output_type": "stream",
     "text": [
      "[[22 58 59  0  2]\n",
      " [ 8 59  0 21 63]\n",
      " [ 0 42 26 64 42]\n",
      " [39 30  0 59  1]\n",
      " [ 0 40 86 53 47]]\n",
      "**********\n",
      "marking the matrix\n",
      "the bool matrix: \n",
      " [[False False False  True False]\n",
      " [False False  True False False]\n",
      " [ True False False False False]\n",
      " [False  True  True False  True]\n",
      " [ True False False False False]]\n",
      "finding the min_zeros rows\n",
      "zero_mat: \n",
      " [[False False False False False]\n",
      " [False False  True False False]\n",
      " [ True False False False False]\n",
      " [False  True  True False  True]\n",
      " [ True False False False False]]\n",
      "marked_zero: \n",
      " [(0, 3), (1, 2), (2, 0), (3, 1)]\n",
      "finding the min_zeros rows\n",
      "zero_mat: \n",
      " [[False False False False False]\n",
      " [False False False False False]\n",
      " [ True False False False False]\n",
      " [False  True False False  True]\n",
      " [ True False False False False]]\n",
      "marked_zero: \n",
      " [(0, 3), (1, 2), (2, 0), (3, 1)]\n",
      "finding the min_zeros rows\n",
      "zero_mat: \n",
      " [[False False False False False]\n",
      " [False False False False False]\n",
      " [False False False False False]\n",
      " [False  True False False  True]\n",
      " [False False False False False]]\n",
      "marked_zero: \n",
      " [(0, 3), (1, 2), (2, 0), (3, 1)]\n",
      "finding the min_zeros rows\n",
      "zero_mat: \n",
      " [[False False False False False]\n",
      " [False False False False False]\n",
      " [False False False False False]\n",
      " [False False False False False]\n",
      " [False False False False False]]\n",
      "marked_zero: \n",
      " [(0, 3), (1, 2), (2, 0), (3, 1)]\n",
      "marked_zero_row:  [0, 1, 2, 3]\n",
      "marked_zero_col:  [3, 2, 0, 1]\n",
      "non_marked_row:  [4]\n",
      "count_zero_lines:  4\n",
      "**********\n",
      "marking the matrix\n",
      "the bool matrix: \n",
      " [[False False False  True False]\n",
      " [False False  True False False]\n",
      " [ True False False False False]\n",
      " [False  True  True False  True]\n",
      " [ True  True False False False]]\n",
      "finding the min_zeros rows\n",
      "zero_mat: \n",
      " [[False False False False False]\n",
      " [False False  True False False]\n",
      " [ True False False False False]\n",
      " [False  True  True False  True]\n",
      " [ True  True False False False]]\n",
      "marked_zero: \n",
      " [(0, 3), (1, 2), (2, 0), (3, 1)]\n",
      "finding the min_zeros rows\n",
      "zero_mat: \n",
      " [[False False False False False]\n",
      " [False False False False False]\n",
      " [ True False False False False]\n",
      " [False  True False False  True]\n",
      " [ True  True False False False]]\n",
      "marked_zero: \n",
      " [(0, 3), (1, 2), (2, 0), (3, 1)]\n",
      "finding the min_zeros rows\n",
      "zero_mat: \n",
      " [[False False False False False]\n",
      " [False False False False False]\n",
      " [False False False False False]\n",
      " [False  True False False  True]\n",
      " [False  True False False False]]\n",
      "marked_zero: \n",
      " [(0, 3), (1, 2), (2, 0), (3, 1)]\n",
      "finding the min_zeros rows\n",
      "zero_mat: \n",
      " [[False False False False False]\n",
      " [False False False False False]\n",
      " [False False False False False]\n",
      " [False False False False  True]\n",
      " [False False False False False]]\n",
      "marked_zero: \n",
      " [(0, 3), (1, 2), (2, 0), (3, 1)]\n",
      "finding the min_zeros rows\n",
      "zero_mat: \n",
      " [[False False False False False]\n",
      " [False False False False False]\n",
      " [False False False False False]\n",
      " [False False False False False]\n",
      " [False False False False False]]\n",
      "marked_zero: \n",
      " [(0, 3), (1, 2), (2, 0), (3, 1)]\n",
      "marked_zero_row:  [0, 1, 2, 4, 3]\n",
      "marked_zero_col:  [3, 2, 0, 1, 4]\n",
      "non_marked_row:  []\n",
      "count_zero_lines:  5\n",
      "The final assignment is: [(0, 3), (1, 2), (2, 0), (4, 1), (3, 4)]\n",
      "[[24 60 61  2  4]\n",
      " [38 89 30 51 93]\n",
      " [ 6 48 32 70 48]\n",
      " [39 30  0 59  1]\n",
      " [ 3 43 89 56 50]]\n"
     ]
    }
   ],
   "source": [
    "assignment = hungarian_algorithm(cost_matrix, verbose=True)\n",
    "print(f\"The final assignment is: {assignment}\")\n",
    "print(cost_matrix)"
   ]
  },
  {
   "cell_type": "code",
   "execution_count": 17,
   "id": "3fc894b3",
   "metadata": {},
   "outputs": [
    {
     "name": "stdout",
     "output_type": "stream",
     "text": [
      "The total cost of the assignment is 82\n"
     ]
    }
   ],
   "source": [
    "total = 0\n",
    "for i in range(len(assignment)):\n",
    "    total += cost_matrix[assignment[i][0], assignment[i][1]]\n",
    "print(f\"The total cost of the assignment is {total}\")"
   ]
  },
  {
   "cell_type": "code",
   "execution_count": null,
   "id": "742e505a",
   "metadata": {},
   "outputs": [],
   "source": []
  }
 ],
 "metadata": {
  "kernelspec": {
   "display_name": "Python 3 (ipykernel)",
   "language": "python",
   "name": "python3"
  },
  "language_info": {
   "codemirror_mode": {
    "name": "ipython",
    "version": 3
   },
   "file_extension": ".py",
   "mimetype": "text/x-python",
   "name": "python",
   "nbconvert_exporter": "python",
   "pygments_lexer": "ipython3",
   "version": "3.9.17"
  }
 },
 "nbformat": 4,
 "nbformat_minor": 5
}
